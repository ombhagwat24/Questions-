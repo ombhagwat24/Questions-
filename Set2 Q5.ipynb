{
 "cells": [
  {
   "cell_type": "code",
   "execution_count": 1,
   "id": "231a0e24",
   "metadata": {},
   "outputs": [],
   "source": [
    "import numpy as np\n",
    "from scipy import stats\n",
    "from scipy.stats import norm"
   ]
  },
  {
   "cell_type": "markdown",
   "id": "33e2eb39",
   "metadata": {},
   "source": [
    "## Mean profits from two different company = Mean1 + Mean2"
   ]
  },
  {
   "cell_type": "code",
   "execution_count": 2,
   "id": "5f046d46",
   "metadata": {},
   "outputs": [
    {
     "name": "stdout",
     "output_type": "stream",
     "text": [
      "Mean Profit is Rs 540 Million\n"
     ]
    }
   ],
   "source": [
    "Mean = 5+7\n",
    "print('Mean Profit is Rs', Mean*45,'Million')"
   ]
  },
  {
   "cell_type": "markdown",
   "id": "16bfbbd9",
   "metadata": {},
   "source": [
    "## Variance of profits from two different company = SD^2 = SD1^2 + SD2^2"
   ]
  },
  {
   "cell_type": "code",
   "execution_count": 3,
   "id": "e79ed368",
   "metadata": {},
   "outputs": [
    {
     "name": "stdout",
     "output_type": "stream",
     "text": [
      "Standard Deviation is Rs 225.0 Million\n"
     ]
    }
   ],
   "source": [
    "SD = np.sqrt((9)+(16))\n",
    "print('Standard Deviation is Rs', SD*45, 'Million')"
   ]
  },
  {
   "cell_type": "markdown",
   "id": "4fe3c3a4",
   "metadata": {},
   "source": [
    "### A. Specify a Rupee range (centered on the mean) such that it contains 95% probability for the annual profit of the company."
   ]
  },
  {
   "cell_type": "code",
   "execution_count": 4,
   "id": "bc4c65b1",
   "metadata": {},
   "outputs": [
    {
     "name": "stdout",
     "output_type": "stream",
     "text": [
      "Range is Rs (99.00810347848784, 980.9918965215122) in Millions\n"
     ]
    }
   ],
   "source": [
    "print('Range is Rs',(stats.norm.interval(0.95,540,225)),'in Millions')"
   ]
  },
  {
   "cell_type": "markdown",
   "id": "32cbbfd6",
   "metadata": {},
   "source": [
    "### B. Specify the 5th percentile of profit (in Rupees) for the company."
   ]
  },
  {
   "cell_type": "markdown",
   "id": "a56820f3",
   "metadata": {},
   "source": [
    "#### X=μ+Zσ,5th percentile = -1.645"
   ]
  },
  {
   "cell_type": "code",
   "execution_count": 5,
   "id": "a9537004",
   "metadata": {},
   "outputs": [],
   "source": [
    "X= 540+(-1.645)*(225)"
   ]
  },
  {
   "cell_type": "code",
   "execution_count": 6,
   "id": "667a3060",
   "metadata": {},
   "outputs": [
    {
     "name": "stdout",
     "output_type": "stream",
     "text": [
      "5th percentile of profit (in Million Rupees) is 170.0\n"
     ]
    }
   ],
   "source": [
    "print('5th percentile of profit (in Million Rupees) is',np.round(X,))"
   ]
  },
  {
   "cell_type": "markdown",
   "id": "b19caf38",
   "metadata": {},
   "source": [
    "### C. Which of the two divisions has a larger probability of making a loss in a given year?"
   ]
  },
  {
   "cell_type": "markdown",
   "id": "40fc4fae",
   "metadata": {},
   "source": [
    "### P(X<0)"
   ]
  },
  {
   "cell_type": "code",
   "execution_count": 7,
   "id": "3d311219",
   "metadata": {},
   "outputs": [
    {
     "data": {
      "text/plain": [
       "0.0477903522728147"
      ]
     },
     "execution_count": 7,
     "metadata": {},
     "output_type": "execute_result"
    }
   ],
   "source": [
    "stats.norm.cdf(0,5,3)"
   ]
  },
  {
   "cell_type": "markdown",
   "id": "d3f39afc",
   "metadata": {},
   "source": [
    "### P(X>0)"
   ]
  },
  {
   "cell_type": "code",
   "execution_count": 8,
   "id": "df039ee1",
   "metadata": {},
   "outputs": [
    {
     "data": {
      "text/plain": [
       "0.040059156863817086"
      ]
     },
     "execution_count": 8,
     "metadata": {},
     "output_type": "execute_result"
    }
   ],
   "source": [
    "stats.norm.cdf(0,7,4)"
   ]
  },
  {
   "cell_type": "markdown",
   "id": "0696d464",
   "metadata": {},
   "source": [
    "### Probability of Division 1 making a loss in a given year is more than Division 2."
   ]
  }
 ],
 "metadata": {
  "_draft": {
   "nbviewer_url": "https://gist.github.com/3005b1777396f2fdbd9994ebaf0fd902"
  },
  "gist": {
   "data": {
    "description": "Set2.Q5.ipynb",
    "public": false
   },
   "id": "3005b1777396f2fdbd9994ebaf0fd902"
  },
  "kernelspec": {
   "display_name": "Python 3 (ipykernel)",
   "language": "python",
   "name": "python3"
  },
  "language_info": {
   "codemirror_mode": {
    "name": "ipython",
    "version": 3
   },
   "file_extension": ".py",
   "mimetype": "text/x-python",
   "name": "python",
   "nbconvert_exporter": "python",
   "pygments_lexer": "ipython3",
   "version": "3.9.7"
  }
 },
 "nbformat": 4,
 "nbformat_minor": 5
}
