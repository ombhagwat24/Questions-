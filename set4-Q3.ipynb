{
 "cells": [
  {
   "cell_type": "code",
   "execution_count": 1,
   "id": "7a0f32ff",
   "metadata": {},
   "outputs": [],
   "source": [
    "import numpy as np\n",
    "from scipy import stats\n",
    "from scipy.stats import norm"
   ]
  },
  {
   "cell_type": "markdown",
   "id": "42de41b6",
   "metadata": {},
   "source": [
    "## z-score for x=45,"
   ]
  },
  {
   "cell_type": "code",
   "execution_count": 2,
   "id": "fce7f44d",
   "metadata": {},
   "outputs": [
    {
     "data": {
      "text/plain": [
       "-1.25"
      ]
     },
     "execution_count": 2,
     "metadata": {},
     "output_type": "execute_result"
    }
   ],
   "source": [
    "z= (45-50)/(40/100**0.5) #z=(s_mean-P_mean)/(p_SD/sqrt(n)\n",
    "z"
   ]
  },
  {
   "cell_type": "markdown",
   "id": "ea7b6040",
   "metadata": {},
   "source": [
    "## z-score for x=55,"
   ]
  },
  {
   "cell_type": "code",
   "execution_count": 3,
   "id": "74273683",
   "metadata": {},
   "outputs": [
    {
     "data": {
      "text/plain": [
       "1.25"
      ]
     },
     "execution_count": 3,
     "metadata": {},
     "output_type": "execute_result"
    }
   ],
   "source": [
    "z= (55-50)/(40/100**0.5) #z=(s_mean-P_mean)/(p_SD/sqrt(n)\n",
    "z"
   ]
  },
  {
   "cell_type": "markdown",
   "id": "4be7bcfe",
   "metadata": {},
   "source": [
    "## For No investigation P(45<X<55), "
   ]
  },
  {
   "cell_type": "code",
   "execution_count": 4,
   "id": "e9de16d0",
   "metadata": {},
   "outputs": [
    {
     "data": {
      "text/plain": [
       "0.7887004526662893"
      ]
     },
     "execution_count": 4,
     "metadata": {},
     "output_type": "execute_result"
    }
   ],
   "source": [
    "stats.norm.cdf(1.25)-stats.norm.cdf(-1.25) "
   ]
  },
  {
   "cell_type": "markdown",
   "id": "60591385",
   "metadata": {},
   "source": [
    "## For Investigation 1-P(45<X<55)"
   ]
  },
  {
   "cell_type": "code",
   "execution_count": 5,
   "id": "b4552da0",
   "metadata": {},
   "outputs": [
    {
     "data": {
      "text/plain": [
       "0.21199999999999997"
      ]
     },
     "execution_count": 5,
     "metadata": {},
     "output_type": "execute_result"
    }
   ],
   "source": [
    "(1-0.788)"
   ]
  },
  {
   "cell_type": "code",
   "execution_count": 6,
   "id": "183d9308",
   "metadata": {},
   "outputs": [
    {
     "data": {
      "text/plain": [
       "21.19"
      ]
     },
     "execution_count": 6,
     "metadata": {},
     "output_type": "execute_result"
    }
   ],
   "source": [
    "(0.2119)*100"
   ]
  },
  {
   "cell_type": "markdown",
   "id": "274d67c7",
   "metadata": {},
   "source": [
    "# `Answer is D. 21.1%`"
   ]
  }
 ],
 "metadata": {
  "_draft": {
   "nbviewer_url": "https://gist.github.com/10afd1886cf35268da6078a47cd81248"
  },
  "gist": {
   "data": {
    "description": "set4.Q3.ipynb",
    "public": false
   },
   "id": "10afd1886cf35268da6078a47cd81248"
  },
  "kernelspec": {
   "display_name": "Python 3 (ipykernel)",
   "language": "python",
   "name": "python3"
  },
  "language_info": {
   "codemirror_mode": {
    "name": "ipython",
    "version": 3
   },
   "file_extension": ".py",
   "mimetype": "text/x-python",
   "name": "python",
   "nbconvert_exporter": "python",
   "pygments_lexer": "ipython3",
   "version": "3.9.7"
  }
 },
 "nbformat": 4,
 "nbformat_minor": 5
}
